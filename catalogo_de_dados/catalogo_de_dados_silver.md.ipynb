{
 "cells": [
  {
   "cell_type": "markdown",
   "metadata": {
    "application/vnd.databricks.v1+cell": {
     "cellMetadata": {},
     "inputWidgets": {},
     "nuid": "bd2b6d39-b687-4563-a3fd-d760acf200c2",
     "showTitle": false,
     "tableResultSettingsMap": {},
     "title": ""
    }
   },
   "source": [
    "# 📚 Catálogo de Dados - Camada Silver\n",
    "\n",
    "## Tabela: `cripto`\n",
    "\n",
    "### Descrição:\n",
    "Tabela Silver que consolida os dados históricos e intradiários de criptoativos oriundos da camada Bronze. Essa tabela unifica os registros dos ativos financeiros, possibilitando análises integradas e continuidade das atualizações de forma incremental. A tabela foi criada para suportar futuras análises preditivas e servir como base para projetos de ciência de dados.\n",
    "\n",
    "### Schema:\n",
    "| Coluna           | Tipo        | Descrição                                                                                  | Domínio / Valores Esperados                  |\n",
    "|------------------|-------------|--------------------------------------------------------------------------------------------|----------------------------------------------|\n",
    "| asset_name       | string      | Nome do ativo financeiro. Origem: `metadata.asset_name` ou valor ajustado a partir de `ticker` (Histórico). | Ex: \"bitcoin\", \"ethereum\"                    |\n",
    "| timestamp        | timestamp   | Data/hora da cotação efetiva do ativo.                                                    | Formato: YYYY-MM-DD HH:MM:SS; período histórico e intradiário. |\n",
    "| price_usd        | double      | Preço do ativo em dólares no momento da cotação.                                           | Valor ≥ 0                                    |\n",
    "| extraction_date  | timestamp   | Data/hora em que os dados foram extraídos da fonte original.                               | Data/hora da execução do pipeline            |\n",
    "| source           | string      | Fonte de origem dos dados.                                                                 | Ex: \"Yahoo Finance\", \"CoinGecko\"             |\n",
    "| time_interval    | string      | Intervalo de tempo referente aos dados intradiários. Para registros históricos, pode ser nulo. | Formato: \"YYYY-MM-DD HH:MM:SS to HH:MM:SS\"     |\n",
    "| total_records    | int         | Número total de registros processados no arquivo de origem.                                | Valor inteiro ≥ 0                            |\n",
    "| source_type      | string      | Indica a origem do registro na camada Bronze: \"historico\" ou \"intradiario\".                | Valor fixo: \"historico\" ou \"intradiario\"       |\n",
    "| source_file      | string      | Nome do arquivo de origem que gerou o registro.                                            | Caminho ou nome do arquivo (para rastreabilidade)|\n",
    "\n",
    "---\n",
    "\n",
    "## Linhagem dos Dados\n",
    "\n",
    "- **Origem:**  \n",
    "  - `bronze_historico`: Arquivos JSON históricos em `landing/historico/{ativo}.json`.  \n",
    "  - `bronze_intradiario`: Arquivos JSON diários em `landing/cripto/{ativo}/*.json`.\n",
    "\n",
    "- **Transformação:**  \n",
    "  - Os registros dos arquivos das camadas Bronze são lidos de forma incremental via Structured Streaming com Change Data Feed (CDF) e inseridos (append) na camada Silver.  \n",
    "  - Os dados históricos e intradiários são unificados em uma única entidade: `ativo_financeiro`.\n",
    "\n",
    "- **Destino:**  \n",
    "  - Tabela Silver `ativo_financeiro` salva em formato Delta, garantindo time travel, otimizações com Liquid Clusters e integração com o Unity Catalog para auditabilidade e rastreamento da linhagem.\n",
    "\n",
    "---\n",
    "\n",
    "## Notas\n",
    "- A tabela Silver está preparada para receber novos ativos de forma dinâmica. Caso um ativo novo seja detectado nos dados da camada Bronze, o pipeline captura todo o histórico desse ativo e passa a processá-lo de forma incremental.\n",
    "- Esse catálogo faz parte de uma estratégia Lakehouse que visa unificar os dados de forma robusta para análises detalhadas e futuras aplicações de ciência de dados.\n",
    "\n"
   ]
  }
 ],
 "metadata": {
  "application/vnd.databricks.v1+notebook": {
   "computePreferences": null,
   "dashboards": [],
   "environmentMetadata": {
    "base_environment": "",
    "environment_version": "2"
   },
   "inputWidgetPreferences": null,
   "language": "python",
   "notebookMetadata": {
    "pythonIndentUnit": 4
   },
   "notebookName": "catalogo_de_dados_silver.md",
   "widgets": {}
  },
  "language_info": {
   "name": "python"
  }
 },
 "nbformat": 4,
 "nbformat_minor": 0
}
