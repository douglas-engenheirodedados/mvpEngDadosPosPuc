{
 "cells": [
  {
   "cell_type": "markdown",
   "metadata": {
    "application/vnd.databricks.v1+cell": {
     "cellMetadata": {},
     "inputWidgets": {},
     "nuid": "82ed6621-55f8-482c-a875-abcdeae599da",
     "showTitle": false,
     "tableResultSettingsMap": {},
     "title": ""
    }
   },
   "source": [
    "# 📊 Visualizações e Análises Exploratórias — Camada Gold (Views)\n",
    "\n",
    "Este notebook tem como objetivo construir **visões analíticas temporárias** com base na **camada Silver**, permitindo análises exploratórias sobre a evolução e o comportamento dos preços de criptoativos.\n",
    "\n",
    "As visualizações aqui propostas foram pensadas para:\n",
    "- Ajudar stakeholders a entender tendências de mercado\n",
    "- Facilitar o monitoramento da volatilidade intradiária\n",
    "- Comparar o desempenho dos diferentes ativos\n",
    "\n",
    "⚠️ **Importante**: As views são geradas diretamente no notebook via bibliotecas de visualização, de forma que possam ser exportadas e visualizadas em repositórios como o GitHub.\n",
    "\n",
    "## 🔧 Tecnologias\n",
    "- PySpark (leitura da camada Silver)\n",
    "- Pandas (manipulação leve dos dados)\n",
    "- Matplotlib / Seaborn / Plotly (gráficos)\n",
    "\n",
    "---"
   ]
  },
  {
   "cell_type": "code",
   "execution_count": 0,
   "metadata": {
    "application/vnd.databricks.v1+cell": {
     "cellMetadata": {
      "byteLimit": 2048000,
      "rowLimit": 10000
     },
     "inputWidgets": {},
     "nuid": "11f912fe-24b3-4285-8e2b-7adfcc98938c",
     "showTitle": true,
     "tableResultSettingsMap": {},
     "title": "Import Libs"
    }
   },
   "outputs": [],
   "source": [
    "import pandas as pd\n",
    "import matplotlib.pyplot as plt\n",
    "import seaborn as sns"
   ]
  },
  {
   "cell_type": "code",
   "execution_count": 0,
   "metadata": {
    "application/vnd.databricks.v1+cell": {
     "cellMetadata": {
      "byteLimit": 2048000,
      "rowLimit": 10000
     },
     "inputWidgets": {},
     "nuid": "ddfd6aaa-0655-44a6-a0d7-40325182830f",
     "showTitle": true,
     "tableResultSettingsMap": {},
     "title": "Parametrização"
    }
   },
   "outputs": [],
   "source": [
    "catalogo = \"lakehouse\"\n",
    "schema = \"silver\"\n",
    "table = \"cripto\"\n",
    "full_table_name = f\"{catalogo}.{schema}.{table}\""
   ]
  },
  {
   "cell_type": "markdown",
   "metadata": {
    "application/vnd.databricks.v1+cell": {
     "cellMetadata": {},
     "inputWidgets": {},
     "nuid": "ea846ab9-f979-4075-9e1f-174ccab18cc9",
     "showTitle": false,
     "tableResultSettingsMap": {},
     "title": ""
    }
   },
   "source": [
    "# 📊 1. Evolução do Preço por Ativo ao Longo do Tempo"
   ]
  },
  {
   "cell_type": "code",
   "execution_count": 0,
   "metadata": {
    "application/vnd.databricks.v1+cell": {
     "cellMetadata": {
      "byteLimit": 2048000,
      "rowLimit": 10000
     },
     "inputWidgets": {},
     "nuid": "98145937-723a-478a-ac93-6ad23cb0ad8a",
     "showTitle": false,
     "tableResultSettingsMap": {},
     "title": ""
    }
   },
   "outputs": [],
   "source": [
    "# Leitura dos dados da camada Silver\n",
    "df_silver = spark.read.table(f\"{full_table_name}\")\n",
    "df_price = df_silver.select(\"timestamp\", \"asset_name\", \"price_usd\").toPandas()\n",
    "\n",
    "# Conversão e ordenação\n",
    "df_price[\"timestamp\"] = pd.to_datetime(df_price[\"timestamp\"])\n",
    "df_price = df_price.sort_values(by=\"timestamp\")\n",
    "\n",
    "# Plot\n",
    "plt.figure(figsize=(14, 6))\n",
    "sns.lineplot(data=df_price, x=\"timestamp\", y=\"price_usd\", hue=\"asset_name\")\n",
    "plt.title(\"📈 Evolução do Preço USD ao Longo do Tempo\")\n",
    "plt.xlabel(\"Data\")\n",
    "plt.ylabel(\"Preço em USD\")\n",
    "plt.legend(title=\"Criptoativo\")\n",
    "plt.grid(True)\n",
    "plt.tight_layout()\n",
    "plt.show()\n"
   ]
  },
  {
   "cell_type": "markdown",
   "metadata": {
    "application/vnd.databricks.v1+cell": {
     "cellMetadata": {},
     "inputWidgets": {},
     "nuid": "9fc7bff2-8b68-4cd6-b94d-7c50e519d9ac",
     "showTitle": false,
     "tableResultSettingsMap": {},
     "title": ""
    }
   },
   "source": [
    "#  📉 2. Variação Diária (%) por Ativo"
   ]
  },
  {
   "cell_type": "code",
   "execution_count": 0,
   "metadata": {
    "application/vnd.databricks.v1+cell": {
     "cellMetadata": {
      "byteLimit": 2048000,
      "rowLimit": 10000
     },
     "inputWidgets": {},
     "nuid": "16fc11fe-0efd-45d4-821e-7662d3c19357",
     "showTitle": false,
     "tableResultSettingsMap": {},
     "title": ""
    }
   },
   "outputs": [],
   "source": [
    "# Cálculo da variação percentual diária\n",
    "df_var = df_price.copy()\n",
    "df_var[\"pct_change\"] = df_var.groupby(\"asset_name\")[\"price_usd\"].pct_change() * 100\n",
    "\n",
    "# Plot\n",
    "plt.figure(figsize=(14, 6))\n",
    "sns.lineplot(data=df_var.dropna(), x=\"timestamp\", y=\"pct_change\", hue=\"asset_name\")\n",
    "plt.title(\"📊 Variação Percentual Diária do Preço\")\n",
    "plt.xlabel(\"Data\")\n",
    "plt.ylabel(\"Variação (%)\")\n",
    "plt.axhline(0, linestyle=\"--\", color=\"gray\")\n",
    "plt.grid(True)\n",
    "plt.tight_layout()\n",
    "plt.show()"
   ]
  },
  {
   "cell_type": "markdown",
   "metadata": {
    "application/vnd.databricks.v1+cell": {
     "cellMetadata": {},
     "inputWidgets": {},
     "nuid": "ba37bad7-24dc-4670-90a0-7ce5852d385e",
     "showTitle": false,
     "tableResultSettingsMap": {},
     "title": ""
    }
   },
   "source": [
    "# ⏰ 3. Distribuição de Preço por Hora (Intradiário)"
   ]
  },
  {
   "cell_type": "code",
   "execution_count": 0,
   "metadata": {
    "application/vnd.databricks.v1+cell": {
     "cellMetadata": {
      "byteLimit": 2048000,
      "rowLimit": 10000
     },
     "inputWidgets": {},
     "nuid": "34bf7500-c6b9-4317-8f70-86f144cf0f76",
     "showTitle": false,
     "tableResultSettingsMap": {},
     "title": ""
    }
   },
   "outputs": [],
   "source": [
    "# Extrair hora\n",
    "df_hourly = df_price.copy()\n",
    "df_hourly[\"hour\"] = df_hourly[\"timestamp\"].dt.hour\n",
    "\n",
    "# Plot\n",
    "plt.figure(figsize=(14, 6))\n",
    "sns.boxplot(data=df_hourly, x=\"hour\", y=\"price_usd\", hue=\"asset_name\")\n",
    "plt.title(\"🕓 Distribuição de Preços por Hora (Intradiário)\")\n",
    "plt.xlabel(\"Hora do Dia\")\n",
    "plt.ylabel(\"Preço em USD\")\n",
    "plt.grid(True)\n",
    "plt.tight_layout()\n",
    "plt.show()"
   ]
  },
  {
   "cell_type": "markdown",
   "metadata": {
    "application/vnd.databricks.v1+cell": {
     "cellMetadata": {},
     "inputWidgets": {},
     "nuid": "9bc214d8-e0be-4ebf-9c38-533b026d0374",
     "showTitle": false,
     "tableResultSettingsMap": {},
     "title": ""
    }
   },
   "source": [
    "# 4. 📌 Ranking de Valorização no Período"
   ]
  },
  {
   "cell_type": "code",
   "execution_count": 0,
   "metadata": {
    "application/vnd.databricks.v1+cell": {
     "cellMetadata": {
      "byteLimit": 2048000,
      "rowLimit": 10000
     },
     "inputWidgets": {},
     "nuid": "975f8781-104c-4b6d-8a6e-0c4a8ea5b339",
     "showTitle": false,
     "tableResultSettingsMap": {},
     "title": ""
    }
   },
   "outputs": [],
   "source": [
    "# Agrupamento por ativo - preço inicial e final\n",
    "df_rank = df_price.groupby(\"asset_name\").agg(\n",
    "    inicio=(\"price_usd\", lambda x: x.iloc[0]),\n",
    "    fim=(\"price_usd\", lambda x: x.iloc[-1])\n",
    ").reset_index()\n",
    "\n",
    "# Cálculo da valorização\n",
    "df_rank[\"valorizacao_pct\"] = ((df_rank[\"fim\"] - df_rank[\"inicio\"]) / df_rank[\"inicio\"]) * 100\n",
    "df_rank = df_rank.sort_values(by=\"valorizacao_pct\", ascending=False)\n",
    "\n",
    "# Plot\n",
    "plt.figure(figsize=(10, 6))\n",
    "sns.barplot(data=df_rank, x=\"valorizacao_pct\", y=\"asset_name\", palette=\"viridis\")\n",
    "plt.title(\"📌 Ranking de Valorização (%) no Período\")\n",
    "plt.xlabel(\"Valorização (%)\")\n",
    "plt.ylabel(\"Criptoativo\")\n",
    "plt.grid(True, axis='x')\n",
    "plt.tight_layout()\n",
    "plt.show()\n"
   ]
  }
 ],
 "metadata": {
  "application/vnd.databricks.v1+notebook": {
   "computePreferences": null,
   "dashboards": [],
   "environmentMetadata": {
    "base_environment": "",
    "environment_version": "2"
   },
   "inputWidgetPreferences": null,
   "language": "python",
   "notebookMetadata": {
    "pythonIndentUnit": 4
   },
   "notebookName": "visoesDominioCripto",
   "widgets": {}
  },
  "language_info": {
   "name": "python"
  }
 },
 "nbformat": 4,
 "nbformat_minor": 0
}
