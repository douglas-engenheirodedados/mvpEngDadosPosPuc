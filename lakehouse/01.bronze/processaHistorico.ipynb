{
 "cells": [
  {
   "cell_type": "markdown",
   "metadata": {
    "application/vnd.databricks.v1+cell": {
     "cellMetadata": {},
     "inputWidgets": {},
     "nuid": "8e6aa235-1e07-4c9c-8516-af553ddc8f9d",
     "showTitle": false,
     "tableResultSettingsMap": {},
     "title": ""
    }
   },
   "source": [
    "\n",
    "## Objetivo: Esse notebook faz o processamento dos dados históricos que se encontram na camada landing\n",
    "\n",
    "![Arquiteture de Ingestão Landing - Bronze](https://github.com/douglas-engenheirodedados/mvpEngDadosPosPuc/blob/529cc4ab58fa85f2476028b240bed918eb465830/docs/images/arquiterura-ingestao.png?raw=true)\n"
   ]
  },
  {
   "cell_type": "code",
   "execution_count": 0,
   "metadata": {
    "application/vnd.databricks.v1+cell": {
     "cellMetadata": {},
     "inputWidgets": {},
     "nuid": "2d44c8e7-f154-4ba5-8859-0cab34ad4a8b",
     "showTitle": true,
     "tableResultSettingsMap": {},
     "title": "Import Libraries"
    }
   },
   "outputs": [],
   "source": [
    "from pyspark.sql.functions import col, explode\n",
    "from pyspark.sql.types import StructType, StructField, StringType, TimestampType, DoubleType, IntegerType, ArrayType"
   ]
  },
  {
   "cell_type": "code",
   "execution_count": 0,
   "metadata": {
    "application/vnd.databricks.v1+cell": {
     "cellMetadata": {},
     "inputWidgets": {},
     "nuid": "ebf55eb0-e0ba-48aa-9656-c890dbb7b40e",
     "showTitle": true,
     "tableResultSettingsMap": {},
     "title": "Catolog"
    }
   },
   "outputs": [],
   "source": [
    "spark.sql(\"create catalog if not exists lakehouse managed location 's3://databricks-9cwyoqzauqyermnrdpparb-cloud-storage-bucket/unity-catalog/1732645886098685'\")\n",
    "spark.sql(\"use catalog lakehouse\")"
   ]
  },
  {
   "cell_type": "code",
   "execution_count": 0,
   "metadata": {
    "application/vnd.databricks.v1+cell": {
     "cellMetadata": {},
     "inputWidgets": {},
     "nuid": "e83071d3-306f-46eb-9c48-866627299753",
     "showTitle": true,
     "tableResultSettingsMap": {},
     "title": "Schema & Volume"
    }
   },
   "outputs": [],
   "source": [
    "spark.sql(\"create schema if not exists bronze\")\n",
    "spark.sql(\"create volume if not exists bronze.checkpoint_historico_cripto\")"
   ]
  },
  {
   "cell_type": "code",
   "execution_count": 0,
   "metadata": {
    "application/vnd.databricks.v1+cell": {
     "cellMetadata": {},
     "inputWidgets": {},
     "nuid": "c823bc13-2b1e-4e1c-bfae-9559a65c4bb7",
     "showTitle": true,
     "tableResultSettingsMap": {},
     "title": "Parâmetros"
    }
   },
   "outputs": [],
   "source": [
    "landing_path = \"s3://01.landing/historico/\"\n",
    "check_point_path = \"/Volumes/lakehouse/bronze/checkpoint_historico_cripto\" \n",
    "table_name = \"bronze.historico_cripto\""
   ]
  },
  {
   "cell_type": "code",
   "execution_count": 0,
   "metadata": {
    "application/vnd.databricks.v1+cell": {
     "cellMetadata": {},
     "inputWidgets": {},
     "nuid": "3a2f442d-3a67-470c-90ed-f4121f5fc7f1",
     "showTitle": false,
     "tableResultSettingsMap": {},
     "title": ""
    }
   },
   "outputs": [],
   "source": [
    "# Define schema explícito (melhor para performance e evitar problemas de inferência)\n",
    "schema = StructType([\n",
    "    StructField(\"metadata\", StructType([\n",
    "        StructField(\"extraction_date\", StringType()),\n",
    "        StructField(\"source\", StringType()),\n",
    "        StructField(\"asset_name\", StringType()),\n",
    "        StructField(\"ticker\", StringType()),\n",
    "        StructField(\"total_records\", StringType()),\n",
    "    ])),\n",
    "    StructField(\"data\", ArrayType(StructType([\n",
    "        StructField(\"timestamp\", StringType()),\n",
    "        StructField(\"price_usd\", DoubleType())\n",
    "    ])))\n",
    "])"
   ]
  },
  {
   "cell_type": "code",
   "execution_count": 0,
   "metadata": {
    "application/vnd.databricks.v1+cell": {
     "cellMetadata": {},
     "inputWidgets": {},
     "nuid": "40e97c43-c491-4383-b6a6-3b2064620e5c",
     "showTitle": false,
     "tableResultSettingsMap": {},
     "title": ""
    }
   },
   "outputs": [],
   "source": [
    "# Leitura com Auto Loader\n",
    "df_raw = (\n",
    "    spark.readStream\n",
    "    .format(\"cloudFiles\")\n",
    "    .option(\"cloudFiles.format\", \"json\")\n",
    "    .option(\"multiline\", \"true\")\n",
    "    .schema(schema)  \n",
    "    .load(landing_path)\n",
    ")"
   ]
  },
  {
   "cell_type": "code",
   "execution_count": 0,
   "metadata": {
    "application/vnd.databricks.v1+cell": {
     "cellMetadata": {},
     "inputWidgets": {},
     "nuid": "1abe327b-a94d-4c5f-9dc3-5f19c4f8c6e1",
     "showTitle": false,
     "tableResultSettingsMap": {},
     "title": ""
    }
   },
   "outputs": [],
   "source": [
    "# Explodir o array de data\n",
    "from pyspark.sql.functions import explode, col, input_file_name\n",
    "\n",
    "df_transformed = (\n",
    "    df_raw\n",
    "    .withColumn(\"record\", explode(col(\"data\")))\n",
    "    .select(\n",
    "        col(\"metadata.asset_name\").alias(\"asset_name\"),\n",
    "        col(\"metadata.ticker\").alias(\"ticker\"),\n",
    "        col(\"metadata.extraction_date\").alias(\"extraction_date\"),\n",
    "        col(\"metadata.source\").alias(\"source\"),\n",
    "        col(\"record.timestamp\").alias(\"timestamp\"),\n",
    "        col(\"record.price_usd\").alias(\"price_usd\"),\n",
    "        input_file_name().alias(\"source_file\")\n",
    "    )\n",
    ")"
   ]
  },
  {
   "cell_type": "code",
   "execution_count": 0,
   "metadata": {
    "application/vnd.databricks.v1+cell": {
     "cellMetadata": {},
     "inputWidgets": {},
     "nuid": "14eb9fee-840c-483a-928d-b69887b338d4",
     "showTitle": false,
     "tableResultSettingsMap": {},
     "title": ""
    }
   },
   "outputs": [],
   "source": [
    "# Escrita no Delta Lake camada bronze\n",
    "(\n",
    "    df_transformed.writeStream\n",
    "    .format(\"delta\")\n",
    "    .outputMode(\"append\")\n",
    "    .option(\"checkpointLocation\", check_point_path)\n",
    "    .trigger(availableNow=True)\n",
    "    .table(table_name)\n",
    ")"
   ]
  }
 ],
 "metadata": {
  "application/vnd.databricks.v1+notebook": {
   "computePreferences": null,
   "dashboards": [],
   "environmentMetadata": null,
   "inputWidgetPreferences": null,
   "language": "python",
   "notebookMetadata": {},
   "notebookName": "processaHistorico",
   "widgets": {}
  },
  "language_info": {
   "name": "python"
  }
 },
 "nbformat": 4,
 "nbformat_minor": 0
}
