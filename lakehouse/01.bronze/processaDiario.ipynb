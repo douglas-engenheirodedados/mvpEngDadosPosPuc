{
 "cells": [
  {
   "cell_type": "markdown",
   "metadata": {
    "application/vnd.databricks.v1+cell": {
     "cellMetadata": {},
     "inputWidgets": {},
     "nuid": "5addd897-1216-4d4d-b37d-ad230fa3b047",
     "showTitle": false,
     "tableResultSettingsMap": {},
     "title": ""
    }
   },
   "source": [
    "\n",
    "## Objetivo: Esse notebook faz o processamento dos dados diários que se encontram na camada landing\n",
    "\n",
    "![Arquiteture de Ingestão Landing - Bronze](https://github.com/douglas-engenheirodedados/mvpEngDadosPosPuc/blob/529cc4ab58fa85f2476028b240bed918eb465830/docs/images/arquiterura-ingestao.png?raw=true)\n",
    "\n"
   ]
  },
  {
   "cell_type": "code",
   "execution_count": 0,
   "metadata": {
    "application/vnd.databricks.v1+cell": {
     "cellMetadata": {},
     "inputWidgets": {},
     "nuid": "24dd145d-ebdb-44a1-b653-170fbb2a0ddb",
     "showTitle": true,
     "tableResultSettingsMap": {},
     "title": "Import Libraries"
    }
   },
   "outputs": [],
   "source": [
    "from pyspark.sql.functions import col, explode, from_json, schema_of_json, input_file_name"
   ]
  },
  {
   "cell_type": "code",
   "execution_count": 0,
   "metadata": {
    "application/vnd.databricks.v1+cell": {
     "cellMetadata": {},
     "inputWidgets": {},
     "nuid": "1023e686-2331-4240-a79f-b35f2054ccdf",
     "showTitle": true,
     "tableResultSettingsMap": {},
     "title": "Catolog"
    }
   },
   "outputs": [],
   "source": [
    "spark.sql(\"create catalog if not exists lakehouse managed location 's3://databricks-9cwyoqzauqyermnrdpparb-cloud-storage-bucket/unity-catalog/1732645886098685'\")\n",
    "spark.sql(\"use catalog lakehouse\")"
   ]
  },
  {
   "cell_type": "code",
   "execution_count": 0,
   "metadata": {
    "application/vnd.databricks.v1+cell": {
     "cellMetadata": {},
     "inputWidgets": {},
     "nuid": "c0aeebb7-b007-4c64-ad41-548d39c9e27e",
     "showTitle": true,
     "tableResultSettingsMap": {},
     "title": "Schema & Volume"
    }
   },
   "outputs": [],
   "source": [
    "spark.sql(\"create schema if not exists bronze\")\n",
    "spark.sql(\"create volume if not exists bronze.checkpoint_diario_cripto\")\n",
    "spark.sql(\"create volume if not exists bronze.schema_diario_cripto\")"
   ]
  },
  {
   "cell_type": "code",
   "execution_count": 0,
   "metadata": {
    "application/vnd.databricks.v1+cell": {
     "cellMetadata": {},
     "inputWidgets": {},
     "nuid": "9227abb1-7d7d-4c8c-bdb6-26d7c01ace7b",
     "showTitle": true,
     "tableResultSettingsMap": {},
     "title": "Parâmetros"
    }
   },
   "outputs": [],
   "source": [
    "path_landing_diario = \"s3://01.landing/cripto/\"\n",
    "check_point_path = \"/Volumes/lakehouse/bronze/checkpoint_diario_cripto\" \n",
    "schema_path = \"/Volumes/lakehouse/bronze/schema_diario_cripto\"\n",
    "table_name = \"bronze.diario_cripto\""
   ]
  },
  {
   "cell_type": "code",
   "execution_count": 0,
   "metadata": {
    "application/vnd.databricks.v1+cell": {
     "cellMetadata": {},
     "inputWidgets": {},
     "nuid": "e4175f14-1de7-45e3-9ff1-01c4e313fe00",
     "showTitle": false,
     "tableResultSettingsMap": {},
     "title": ""
    }
   },
   "outputs": [],
   "source": [
    "# Leitura com inferência de schema e multiline\n",
    "df_raw_diario = (\n",
    "    spark.readStream\n",
    "    .format(\"cloudFiles\")\n",
    "    .option(\"cloudFiles.format\", \"json\")\n",
    "    .option(\"cloudFiles.inferColumnTypes\", \"true\")\n",
    "    .option(\"cloudFiles.schemaLocation\", schema_path)\n",
    "    .option(\"multiline\", \"true\")  # Essencial para arquivos JSON com estrutura aninhada\n",
    "    .load(path_landing_diario)\n",
    ")"
   ]
  },
  {
   "cell_type": "code",
   "execution_count": 0,
   "metadata": {
    "application/vnd.databricks.v1+cell": {
     "cellMetadata": {},
     "inputWidgets": {},
     "nuid": "502a84d0-aff0-49d2-acc8-94e6a78e7b47",
     "showTitle": false,
     "tableResultSettingsMap": {},
     "title": ""
    }
   },
   "outputs": [],
   "source": [
    "# Explode os dados mantendo os metadados\n",
    "df_transformed = (\n",
    "    df_raw_diario\n",
    "    .withColumn(\"record\", explode(\"data\"))\n",
    "    .select(\n",
    "        col(\"record.timestamp\").alias(\"timestamp\"),\n",
    "        col(\"record.price_usd\").alias(\"price_usd\"),\n",
    "        col(\"metadata.asset_name\").alias(\"asset_name\"),\n",
    "        col(\"metadata.extraction_date\").alias(\"extraction_date\"),\n",
    "        col(\"metadata.source\").alias(\"source\"),\n",
    "        col(\"metadata.time_interval\").alias(\"time_interval\"),\n",
    "        input_file_name().alias(\"source_file\")\n",
    "    )\n",
    ")"
   ]
  },
  {
   "cell_type": "code",
   "execution_count": 0,
   "metadata": {
    "application/vnd.databricks.v1+cell": {
     "cellMetadata": {},
     "inputWidgets": {},
     "nuid": "7a9d3708-4e40-4635-803f-30cbe716094b",
     "showTitle": false,
     "tableResultSettingsMap": {},
     "title": ""
    }
   },
   "outputs": [],
   "source": [
    "# Escrita no Delta Lake (bronze diário)\n",
    "(\n",
    "    df_transformed.writeStream\n",
    "    .format(\"delta\")\n",
    "    .outputMode(\"append\")\n",
    "    .option(\"checkpointLocation\",check_point_path)\n",
    "    .trigger(availableNow=True)\n",
    "    .table(table_name)\n",
    ")\n"
   ]
  }
 ],
 "metadata": {
  "application/vnd.databricks.v1+notebook": {
   "computePreferences": null,
   "dashboards": [],
   "environmentMetadata": null,
   "inputWidgetPreferences": null,
   "language": "python",
   "notebookMetadata": {},
   "notebookName": "processaDiario",
   "widgets": {}
  },
  "language_info": {
   "name": "python"
  }
 },
 "nbformat": 4,
 "nbformat_minor": 0
}
