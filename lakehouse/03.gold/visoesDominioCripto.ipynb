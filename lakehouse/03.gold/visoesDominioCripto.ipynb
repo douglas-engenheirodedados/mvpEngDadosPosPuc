{
 "cells": [
  {
   "cell_type": "markdown",
   "metadata": {
    "application/vnd.databricks.v1+cell": {
     "cellMetadata": {},
     "inputWidgets": {},
     "nuid": "82ed6621-55f8-482c-a875-abcdeae599da",
     "showTitle": false,
     "tableResultSettingsMap": {},
     "title": ""
    }
   },
   "source": [
    "# ✨ Camada Gold - Visões Analíticas do Domínio Cripto\n",
    "\n",
    "## 📌 Objetivo\n",
    "Este notebook tem como objetivo construir visões analíticas baseadas na camada Silver unificada (`cripto`) com foco em análises exploratórias e criação de *views* que permitam responder a perguntas de negócio e embasar decisões estratégicas.\n",
    "\n",
    "## 🔍 O que será feito:\n",
    "- Criação de *views temporárias* com base nos dados históricos e intradiários de criptoativos.\n",
    "- Geração de gráficos para visualização de tendências e comportamento dos ativos ao longo do tempo.\n",
    "- Identificação de padrões, picos de preço e variações diárias para facilitar análises.\n",
    "\n",
    "## 📈 Visões a serem desenvolvidas:\n",
    "1. **📊 Evolução do Preço por Ativo ao Longo do Tempo**  \n",
    "   Linha do tempo com o preço em USD para cada ativo.\n",
    "\n",
    "2. **📉 Variação Diária (%) por Ativo**  \n",
    "   Cálculo da variação percentual diária do preço.\n",
    "\n",
    "3. **🔥 Top 5 Maiores Altas e Quedas por Ativo**  \n",
    "   Ranking de maiores oscilações diárias.\n",
    "\n",
    "4. **⏰ Distribuição de Preço por Hora (Intradiário)**  \n",
    "   Boxplot ou gráfico de dispersão para entender a volatilidade dentro do dia.\n",
    "\n",
    "> ⚠️ As visualizações serão feitas via `display()` com gráficos interativos do Databricks. Nenhum dado será materializado em disco — todas as views serão temporárias.\n"
   ]
  },
  {
   "cell_type": "code",
   "execution_count": 0,
   "metadata": {
    "application/vnd.databricks.v1+cell": {
     "cellMetadata": {
      "byteLimit": 2048000,
      "rowLimit": 10000
     },
     "inputWidgets": {},
     "nuid": "11f912fe-24b3-4285-8e2b-7adfcc98938c",
     "showTitle": true,
     "tableResultSettingsMap": {},
     "title": "Import Libs"
    }
   },
   "outputs": [],
   "source": [
    "from pyspark.sql.functions import hour, col, to_date, lag, round\n",
    "from pyspark.sql.window import Window"
   ]
  },
  {
   "cell_type": "code",
   "execution_count": 0,
   "metadata": {
    "application/vnd.databricks.v1+cell": {
     "cellMetadata": {
      "byteLimit": 2048000,
      "rowLimit": 10000
     },
     "inputWidgets": {},
     "nuid": "ddfd6aaa-0655-44a6-a0d7-40325182830f",
     "showTitle": true,
     "tableResultSettingsMap": {},
     "title": "Parametrização"
    }
   },
   "outputs": [],
   "source": [
    "catalogo = \"lakehouse\"\n",
    "schema = \"silver\"\n",
    "table = \"cripto\"\n",
    "full_table_name = f\"{catalogo}.{schema}.{table}\""
   ]
  },
  {
   "cell_type": "markdown",
   "metadata": {
    "application/vnd.databricks.v1+cell": {
     "cellMetadata": {},
     "inputWidgets": {},
     "nuid": "ea846ab9-f979-4075-9e1f-174ccab18cc9",
     "showTitle": false,
     "tableResultSettingsMap": {},
     "title": ""
    }
   },
   "source": [
    "# 📊 1. Evolução do Preço por Ativo ao Longo do Tempo"
   ]
  },
  {
   "cell_type": "code",
   "execution_count": 0,
   "metadata": {
    "application/vnd.databricks.v1+cell": {
     "cellMetadata": {
      "byteLimit": 2048000,
      "rowLimit": 10000
     },
     "inputWidgets": {},
     "nuid": "ab7c6c75-4161-438c-997e-eca98022e3d3",
     "showTitle": false,
     "tableResultSettingsMap": {},
     "title": ""
    }
   },
   "outputs": [
    {
     "output_type": "display_data",
     "data": {
      "text/plain": [
       "Databricks visualization. Run in Databricks to view."
      ]
     },
     "metadata": {
      "application/vnd.databricks.v1.subcommand+json": {
       "baseErrorDetails": null,
       "bindings": {},
       "collapsed": false,
       "command": "%python\n__backend_agg_display_orig = display\n__backend_agg_dfs = []\ndef __backend_agg_display_new(df):\n    __backend_agg_df_modules = [\"pandas.core.frame\", \"databricks.koalas.frame\", \"pyspark.sql.dataframe\", \"pyspark.pandas.frame\", \"pyspark.sql.connect.dataframe\"]\n    if (type(df).__module__ in __backend_agg_df_modules and type(df).__name__ == 'DataFrame') or isinstance(df, list):\n        __backend_agg_dfs.append(df)\n\ndisplay = __backend_agg_display_new\n\ndef __backend_agg_user_code_fn():\n    import base64\n    exec(base64.standard_b64decode(\"IyBWaWV3IGNvbSBtw6lkaWEgZGUgcHJlw6dvIGRpw6FyaWEgcG9yIGF0aXZvCmRmX2V2b2x1Y2FvX2RpYXJpYSA9ICgKICAgIHNwYXJrLnJlYWQudGFibGUoZiJ7ZnVsbF90YWJsZV9uYW1lfSIpCiAgICAud2l0aENvbHVtbigiZGF0ZSIsIHRvX2RhdGUoInRpbWVzdGFtcCIpKQogICAgLmdyb3VwQnkoImFzc2V0X25hbWUiLCAiZGF0ZSIpCiAgICAuYWdnKHsicHJpY2VfdXNkIjogImF2ZyJ9KQogICAgLndpdGhDb2x1bW5SZW5hbWVkKCJhdmcocHJpY2VfdXNkKSIsICJhdmdfcHJpY2VfdXNkIikKKQoKZGZfZXZvbHVjYW9fZGlhcmlhLmNyZWF0ZU9yUmVwbGFjZVRlbXBWaWV3KCJ2d19ldm9sdWNhb19wcmVjb19kaWFyaW8iKQoKIyBWaXN1YWxpemHDp8OjbwpkaXNwbGF5KGRmX2V2b2x1Y2FvX2RpYXJpYS5vcmRlckJ5KCJkYXRlIikp\").decode())\n\ntry:\n    # run user code\n    __backend_agg_user_code_fn()\n\n    #reset display function\n    display = __backend_agg_display_orig\n\n    if len(__backend_agg_dfs) > 0:\n        # create a temp view\n        if type(__backend_agg_dfs[0]).__module__ == \"databricks.koalas.frame\":\n            # koalas dataframe\n            __backend_agg_dfs[0].to_spark().createOrReplaceTempView(\"DatabricksViewdb0d121\")\n        elif type(__backend_agg_dfs[0]).__module__ == \"pandas.core.frame\" or isinstance(__backend_agg_dfs[0], list):\n            # pandas dataframe\n            spark.createDataFrame(__backend_agg_dfs[0]).createOrReplaceTempView(\"DatabricksViewdb0d121\")\n        else:\n            __backend_agg_dfs[0].createOrReplaceTempView(\"DatabricksViewdb0d121\")\n        #run backend agg\n        display(spark.sql(\"\"\"WITH q AS (select * from DatabricksViewdb0d121) SELECT `date`,`asset_name`,SUM(`avg_price_usd`) `column_db52718548` FROM q GROUP BY `asset_name`,`date`\"\"\"))\n    else:\n        displayHTML(\"dataframe no longer exists. If you're using dataframe.display(), use display(dataframe) instead.\")\n\n\nfinally:\n    spark.sql(\"drop view if exists DatabricksViewdb0d121\")\n    display = __backend_agg_display_orig\n    del __backend_agg_display_new\n    del __backend_agg_display_orig\n    del __backend_agg_dfs\n    del __backend_agg_user_code_fn\n\n",
       "commandTitle": "Visualization 1",
       "commandType": "auto",
       "commandVersion": 0,
       "commentThread": [],
       "commentsVisible": false,
       "contentSha256Hex": null,
       "customPlotOptions": {
        "redashChart": [
         {
          "key": "type",
          "value": "CHART"
         },
         {
          "key": "options",
          "value": {
           "alignYAxesAtZero": true,
           "coefficient": 1,
           "columnConfigurationMap": {
            "series": {
             "column": "asset_name",
             "id": "column_db52718547"
            },
            "x": {
             "column": "date",
             "id": "column_db52718546"
            },
            "y": [
             {
              "column": "avg_price_usd",
              "id": "column_db52718548",
              "transform": "SUM"
             }
            ]
           },
           "dateTimeFormat": "DD/MM/YYYY HH:mm",
           "direction": {
            "type": "counterclockwise"
           },
           "error_y": {
            "type": "data",
            "visible": true
           },
           "globalSeriesType": "line",
           "legend": {
            "traceorder": "normal"
           },
           "missingValuesAsZero": true,
           "numberFormat": "0,0.[00000]",
           "percentFormat": "0[.]00%",
           "series": {
            "error_y": {
             "type": "data",
             "visible": true
            },
            "stacking": null
           },
           "seriesOptions": {
            "column_db52718548": {
             "name": "avg_price_usd",
             "yAxis": 0
            }
           },
           "showDataLabels": false,
           "sizemode": "diameter",
           "sortX": true,
           "sortY": true,
           "swappedAxes": false,
           "textFormat": "",
           "useAggregationsUi": true,
           "valuesOptions": {},
           "version": 2,
           "xAxis": {
            "labels": {
             "enabled": true
            },
            "type": "-"
           },
           "yAxis": [
            {
             "type": "-"
            },
            {
             "opposite": true,
             "type": "-"
            }
           ]
          }
         }
        ]
       },
       "datasetPreviewNameToCmdIdMap": {},
       "diffDeletes": [],
       "diffInserts": [],
       "displayType": "redashChart",
       "error": null,
       "errorDetails": null,
       "errorSummary": null,
       "errorTraceType": null,
       "finishTime": 1744398213378,
       "globalVars": {},
       "guid": "",
       "height": "auto",
       "hideCommandCode": false,
       "hideCommandResult": false,
       "iPythonMetadata": null,
       "inputWidgets": {},
       "isLockedInExamMode": false,
       "latestUser": "a user",
       "latestUserId": null,
       "listResultMetadata": [
        [
         "table",
         10000
        ]
       ],
       "metadata": {
        "byteLimit": 2048000,
        "rowLimit": 10000
       },
       "nuid": "8f1b2383-07b9-4dd7-82ff-c3c2f2511d54",
       "origId": 0,
       "parentHierarchy": [],
       "pivotAggregation": null,
       "pivotColumns": null,
       "position": 2.75,
       "resultDbfsErrorMessage": null,
       "resultDbfsStatus": "INLINED_IN_TREE",
       "results": null,
       "showCommandTitle": false,
       "startTime": 1744398211446,
       "state": "input",
       "streamStates": {},
       "subcommandOptions": {
        "queryPlan": {
         "groups": [
          {
           "column": "date",
           "type": "column"
          },
          {
           "column": "asset_name",
           "type": "column"
          }
         ],
         "selects": [
          {
           "column": "date",
           "type": "column"
          },
          {
           "column": "asset_name",
           "type": "column"
          },
          {
           "alias": "column_db52718548",
           "args": [
            {
             "column": "avg_price_usd",
             "type": "column"
            }
           ],
           "function": "SUM",
           "type": "function"
          }
         ]
        }
       },
       "submitTime": 1744398211376,
       "subtype": "tableResultSubCmd.visualization",
       "tableResultIndex": 0,
       "tableResultSettingsMap": {},
       "useConsistentColors": false,
       "version": "CommandV1",
       "width": "auto",
       "workflows": null,
       "xColumns": null,
       "yColumns": null
      }
     },
     "output_type": "display_data"
    }
   ],
   "source": [
    "# View com média de preço diária por ativo\n",
    "df_evolucao_diaria = (\n",
    "    spark.read.table(f\"{full_table_name}\")\n",
    "    .withColumn(\"date\", to_date(\"timestamp\"))\n",
    "    .groupBy(\"asset_name\", \"date\")\n",
    "    .agg({\"price_usd\": \"avg\"})\n",
    "    .withColumnRenamed(\"avg(price_usd)\", \"avg_price_usd\")\n",
    ")\n",
    "\n",
    "df_evolucao_diaria.createOrReplaceTempView(\"vw_evolucao_preco_diario\")\n",
    "\n",
    "# Visualização\n",
    "display(df_evolucao_diaria.orderBy(\"date\"))"
   ]
  },
  {
   "cell_type": "markdown",
   "metadata": {
    "application/vnd.databricks.v1+cell": {
     "cellMetadata": {},
     "inputWidgets": {},
     "nuid": "9fc7bff2-8b68-4cd6-b94d-7c50e519d9ac",
     "showTitle": false,
     "tableResultSettingsMap": {},
     "title": ""
    }
   },
   "source": [
    "#  📉 2. Variação Diária (%) por Ativo"
   ]
  },
  {
   "cell_type": "code",
   "execution_count": 0,
   "metadata": {
    "application/vnd.databricks.v1+cell": {
     "cellMetadata": {
      "byteLimit": 2048000,
      "rowLimit": 10000
     },
     "inputWidgets": {},
     "nuid": "21d33196-009b-4000-90ef-0b558a1b8119",
     "showTitle": false,
     "tableResultSettingsMap": {},
     "title": ""
    }
   },
   "outputs": [
    {
     "output_type": "display_data",
     "data": {
      "text/plain": [
       "Databricks visualization. Run in Databricks to view."
      ]
     },
     "metadata": {
      "application/vnd.databricks.v1.subcommand+json": {
       "baseErrorDetails": null,
       "bindings": {},
       "collapsed": false,
       "command": "%python\n__backend_agg_display_orig = display\n__backend_agg_dfs = []\ndef __backend_agg_display_new(df):\n    __backend_agg_df_modules = [\"pandas.core.frame\", \"databricks.koalas.frame\", \"pyspark.sql.dataframe\", \"pyspark.pandas.frame\", \"pyspark.sql.connect.dataframe\"]\n    if (type(df).__module__ in __backend_agg_df_modules and type(df).__name__ == 'DataFrame') or isinstance(df, list):\n        __backend_agg_dfs.append(df)\n\ndisplay = __backend_agg_display_new\n\ndef __backend_agg_user_code_fn():\n    import base64\n    exec(base64.standard_b64decode(\"amFuZWxhID0gV2luZG93LnBhcnRpdGlvbkJ5KCJhc3NldF9uYW1lIikub3JkZXJCeSgiZGF0ZSIpCgpkZl92YXJpYWNhbyA9ICgKICAgIGRmX2V2b2x1Y2FvX2RpYXJpYQogICAgLndpdGhDb2x1bW4oImxhZ19wcmljZSIsIGxhZygiYXZnX3ByaWNlX3VzZCIpLm92ZXIoamFuZWxhKSkKICAgIC53aXRoQ29sdW1uKCJwY3RfY2hhbmdlIiwgcm91bmQoKChjb2woImF2Z19wcmljZV91c2QiKSAtIGNvbCgibGFnX3ByaWNlIikpIC8gY29sKCJsYWdfcHJpY2UiKSkgKiAxMDAsIDIpKQogICAgLm5hLmRyb3Aoc3Vic2V0PVsicGN0X2NoYW5nZSJdKQopCgpkZl92YXJpYWNhby5jcmVhdGVPclJlcGxhY2VUZW1wVmlldygidndfdmFyaWFjYW9fcGVyY2VudHVhbF9kaWFyaWEiKQoKZGlzcGxheShkZl92YXJpYWNhby5vcmRlckJ5KCJkYXRlIikp\").decode())\n\ntry:\n    # run user code\n    __backend_agg_user_code_fn()\n\n    #reset display function\n    display = __backend_agg_display_orig\n\n    if len(__backend_agg_dfs) > 0:\n        # create a temp view\n        if type(__backend_agg_dfs[0]).__module__ == \"databricks.koalas.frame\":\n            # koalas dataframe\n            __backend_agg_dfs[0].to_spark().createOrReplaceTempView(\"DatabricksView708902e\")\n        elif type(__backend_agg_dfs[0]).__module__ == \"pandas.core.frame\" or isinstance(__backend_agg_dfs[0], list):\n            # pandas dataframe\n            spark.createDataFrame(__backend_agg_dfs[0]).createOrReplaceTempView(\"DatabricksView708902e\")\n        else:\n            __backend_agg_dfs[0].createOrReplaceTempView(\"DatabricksView708902e\")\n        #run backend agg\n        display(spark.sql(\"\"\"WITH q AS (select * from DatabricksView708902e) SELECT `date`,SUM(`avg_price_usd`) `column_db52718580`,`asset_name` FROM q GROUP BY `asset_name`,`date`\"\"\"))\n    else:\n        displayHTML(\"dataframe no longer exists. If you're using dataframe.display(), use display(dataframe) instead.\")\n\n\nfinally:\n    spark.sql(\"drop view if exists DatabricksView708902e\")\n    display = __backend_agg_display_orig\n    del __backend_agg_display_new\n    del __backend_agg_display_orig\n    del __backend_agg_dfs\n    del __backend_agg_user_code_fn\n\n",
       "commandTitle": "Visualization 1",
       "commandType": "auto",
       "commandVersion": 0,
       "commentThread": [],
       "commentsVisible": false,
       "contentSha256Hex": null,
       "customPlotOptions": {
        "redashChart": [
         {
          "key": "type",
          "value": "CHART"
         },
         {
          "key": "options",
          "value": {
           "alignYAxesAtZero": true,
           "coefficient": 1,
           "columnConfigurationMap": {
            "series": {
             "column": "asset_name",
             "id": "column_db52718582"
            },
            "x": {
             "column": "date",
             "id": "column_db52718577"
            },
            "y": [
             {
              "column": "avg_price_usd",
              "id": "column_db52718580",
              "transform": "SUM"
             }
            ]
           },
           "dateTimeFormat": "DD/MM/YYYY HH:mm",
           "direction": {
            "type": "counterclockwise"
           },
           "error_y": {
            "type": "data",
            "visible": true
           },
           "globalSeriesType": "column",
           "isAggregationOn": true,
           "legend": {
            "traceorder": "normal"
           },
           "missingValuesAsZero": true,
           "numberFormat": "0,0.[00000]",
           "percentFormat": "0[.]00%",
           "series": {
            "error_y": {
             "type": "data",
             "visible": true
            },
            "stacking": null
           },
           "seriesOptions": {
            "column_db52718580": {
             "type": "column",
             "yAxis": 0
            }
           },
           "showDataLabels": false,
           "sizemode": "diameter",
           "sortX": true,
           "sortY": true,
           "swappedAxes": false,
           "textFormat": "",
           "useAggregationsUi": true,
           "valuesOptions": {},
           "version": 2,
           "xAxis": {
            "labels": {
             "enabled": true
            },
            "type": "-"
           },
           "yAxis": [
            {
             "type": "-"
            },
            {
             "opposite": true,
             "type": "-"
            }
           ]
          }
         }
        ]
       },
       "datasetPreviewNameToCmdIdMap": {},
       "diffDeletes": [],
       "diffInserts": [],
       "displayType": "redashChart",
       "error": null,
       "errorDetails": null,
       "errorSummary": null,
       "errorTraceType": null,
       "finishTime": 1744398522948,
       "globalVars": {},
       "guid": "",
       "height": "auto",
       "hideCommandCode": false,
       "hideCommandResult": false,
       "iPythonMetadata": null,
       "inputWidgets": {},
       "isLockedInExamMode": false,
       "latestUser": "a user",
       "latestUserId": null,
       "listResultMetadata": [
        [
         "table",
         10000
        ]
       ],
       "metadata": {
        "byteLimit": 2048000,
        "rowLimit": 10000
       },
       "nuid": "7303ebcb-944d-4fc9-83c2-496fb6a1ca23",
       "origId": 0,
       "parentHierarchy": [],
       "pivotAggregation": null,
       "pivotColumns": null,
       "position": 2.875,
       "resultDbfsErrorMessage": null,
       "resultDbfsStatus": "INLINED_IN_TREE",
       "results": null,
       "showCommandTitle": false,
       "startTime": 1744398520635,
       "state": "input",
       "streamStates": {},
       "subcommandOptions": {
        "queryPlan": {
         "groups": [
          {
           "column": "date",
           "type": "column"
          },
          {
           "column": "asset_name",
           "type": "column"
          }
         ],
         "selects": [
          {
           "column": "date",
           "type": "column"
          },
          {
           "alias": "column_db52718580",
           "args": [
            {
             "column": "avg_price_usd",
             "type": "column"
            }
           ],
           "function": "SUM",
           "type": "function"
          },
          {
           "column": "asset_name",
           "type": "column"
          }
         ]
        }
       },
       "submitTime": 1744398520541,
       "subtype": "tableResultSubCmd.visualization",
       "tableResultIndex": 0,
       "tableResultSettingsMap": {},
       "useConsistentColors": false,
       "version": "CommandV1",
       "width": "auto",
       "workflows": null,
       "xColumns": null,
       "yColumns": null
      }
     },
     "output_type": "display_data"
    }
   ],
   "source": [
    "janela = Window.partitionBy(\"asset_name\").orderBy(\"date\")\n",
    "\n",
    "df_variacao = (\n",
    "    df_evolucao_diaria\n",
    "    .withColumn(\"lag_price\", lag(\"avg_price_usd\").over(janela))\n",
    "    .withColumn(\"pct_change\", round(((col(\"avg_price_usd\") - col(\"lag_price\")) / col(\"lag_price\")) * 100, 2))\n",
    "    .na.drop(subset=[\"pct_change\"])\n",
    ")\n",
    "\n",
    "df_variacao.createOrReplaceTempView(\"vw_variacao_percentual_diaria\")\n",
    "\n",
    "display(df_variacao.orderBy(\"date\"))"
   ]
  },
  {
   "cell_type": "markdown",
   "metadata": {
    "application/vnd.databricks.v1+cell": {
     "cellMetadata": {},
     "inputWidgets": {},
     "nuid": "ba37bad7-24dc-4670-90a0-7ce5852d385e",
     "showTitle": false,
     "tableResultSettingsMap": {},
     "title": ""
    }
   },
   "source": [
    "# 🔥 3. Top 5 Maiores Altas e Quedas por Ativo"
   ]
  },
  {
   "cell_type": "code",
   "execution_count": 0,
   "metadata": {
    "application/vnd.databricks.v1+cell": {
     "cellMetadata": {
      "byteLimit": 2048000,
      "rowLimit": 10000
     },
     "inputWidgets": {},
     "nuid": "4b7f4433-dc00-40af-9a3a-4a09e26cac30",
     "showTitle": false,
     "tableResultSettingsMap": {},
     "title": ""
    }
   },
   "outputs": [],
   "source": [
    "# Altas\n",
    "top_altas = df_variacao.orderBy(col(\"pct_change\").desc()).limit(5)\n",
    "top_altas.createOrReplaceTempView(\"vw_top_5_altas\")\n",
    "display(top_altas)\n",
    "\n",
    "# Quedas\n",
    "top_quedas = df_variacao.orderBy(col(\"pct_change\").asc()).limit(5)\n",
    "top_quedas.createOrReplaceTempView(\"vw_top_5_quedas\")\n",
    "display(top_quedas)"
   ]
  },
  {
   "cell_type": "markdown",
   "metadata": {
    "application/vnd.databricks.v1+cell": {
     "cellMetadata": {},
     "inputWidgets": {},
     "nuid": "9bc214d8-e0be-4ebf-9c38-533b026d0374",
     "showTitle": false,
     "tableResultSettingsMap": {},
     "title": ""
    }
   },
   "source": [
    "# ⏰ 4. Distribuição de Preço por Hora (Intradiário)"
   ]
  },
  {
   "cell_type": "code",
   "execution_count": 0,
   "metadata": {
    "application/vnd.databricks.v1+cell": {
     "cellMetadata": {
      "byteLimit": 2048000,
      "rowLimit": 10000
     },
     "inputWidgets": {},
     "nuid": "b6653c7f-8ac0-4c5f-89ab-efc25940a649",
     "showTitle": false,
     "tableResultSettingsMap": {},
     "title": ""
    }
   },
   "outputs": [
    {
     "output_type": "display_data",
     "data": {
      "text/plain": [
       "Databricks visualization. Run in Databricks to view."
      ]
     },
     "metadata": {
      "application/vnd.databricks.v1.subcommand+json": {
       "baseErrorDetails": null,
       "bindings": {},
       "collapsed": false,
       "command": "%python\n__backend_agg_display_orig = display\n__backend_agg_dfs = []\ndef __backend_agg_display_new(df):\n    __backend_agg_df_modules = [\"pandas.core.frame\", \"databricks.koalas.frame\", \"pyspark.sql.dataframe\", \"pyspark.pandas.frame\", \"pyspark.sql.connect.dataframe\"]\n    if (type(df).__module__ in __backend_agg_df_modules and type(df).__name__ == 'DataFrame') or isinstance(df, list):\n        __backend_agg_dfs.append(df)\n\ndisplay = __backend_agg_display_new\n\ndef __backend_agg_user_code_fn():\n    import base64\n    exec(base64.standard_b64decode(\"ZGZfaW50cmFkaWFyaW8gPSAoCiAgICBzcGFyay5yZWFkLnRhYmxlKGYie2Z1bGxfdGFibGVfbmFtZX0iKQogICAgLmZpbHRlcigic291cmNlX3R5cGUgPSAnaW50cmFkaWFyaW8nIikKICAgIC53aXRoQ29sdW1uKCJob3JhIiwgaG91cigidGltZXN0YW1wIikpCikKCmRmX2ludHJhZGlhcmlvLmNyZWF0ZU9yUmVwbGFjZVRlbXBWaWV3KCJ2d19kaXN0cmlidWljYW9faG9yYXJpYV9wcmVjbyIpCgpkaXNwbGF5KGRmX2ludHJhZGlhcmlvLnNlbGVjdCgiYXNzZXRfbmFtZSIsICJob3JhIiwgInByaWNlX3VzZCIpKQo=\").decode())\n\ntry:\n    # run user code\n    __backend_agg_user_code_fn()\n\n    #reset display function\n    display = __backend_agg_display_orig\n\n    if len(__backend_agg_dfs) > 0:\n        # create a temp view\n        if type(__backend_agg_dfs[0]).__module__ == \"databricks.koalas.frame\":\n            # koalas dataframe\n            __backend_agg_dfs[0].to_spark().createOrReplaceTempView(\"DatabricksView35a733d\")\n        elif type(__backend_agg_dfs[0]).__module__ == \"pandas.core.frame\" or isinstance(__backend_agg_dfs[0], list):\n            # pandas dataframe\n            spark.createDataFrame(__backend_agg_dfs[0]).createOrReplaceTempView(\"DatabricksView35a733d\")\n        else:\n            __backend_agg_dfs[0].createOrReplaceTempView(\"DatabricksView35a733d\")\n        #run backend agg\n        display(spark.sql(\"\"\"WITH q AS (select * from DatabricksView35a733d) SELECT `hora`,`price_usd`,`asset_name` FROM q\"\"\"))\n    else:\n        displayHTML(\"dataframe no longer exists. If you're using dataframe.display(), use display(dataframe) instead.\")\n\n\nfinally:\n    spark.sql(\"drop view if exists DatabricksView35a733d\")\n    display = __backend_agg_display_orig\n    del __backend_agg_display_new\n    del __backend_agg_display_orig\n    del __backend_agg_dfs\n    del __backend_agg_user_code_fn\n\n",
       "commandTitle": "Visualization 1",
       "commandType": "auto",
       "commandVersion": 0,
       "commentThread": [],
       "commentsVisible": false,
       "contentSha256Hex": null,
       "customPlotOptions": {
        "redashChart": [
         {
          "key": "type",
          "value": "CHART"
         },
         {
          "key": "options",
          "value": {
           "alignYAxesAtZero": true,
           "coefficient": 1,
           "columnConfigurationMap": {
            "series": {
             "column": "asset_name",
             "id": "column_db52718597"
            },
            "x": {
             "column": "hora",
             "id": "column_db52718595"
            },
            "y": [
             {
              "column": "price_usd",
              "id": "column_db52718596"
             }
            ]
           },
           "dateTimeFormat": "DD/MM/YYYY HH:mm",
           "direction": {
            "type": "counterclockwise"
           },
           "error_y": {
            "type": "data",
            "visible": true
           },
           "globalSeriesType": "scatter",
           "legend": {
            "traceorder": "normal"
           },
           "missingValuesAsZero": true,
           "numberFormat": "0,0.[00000]",
           "percentFormat": "0[.]00%",
           "series": {
            "error_y": {
             "type": "data",
             "visible": true
            },
            "stacking": null
           },
           "seriesOptions": {
            "column_db52718596": {
             "name": "price_usd",
             "yAxis": 0
            }
           },
           "showDataLabels": false,
           "sizemode": "diameter",
           "sortX": true,
           "sortY": true,
           "swappedAxes": false,
           "textFormat": "",
           "useAggregationsUi": true,
           "valuesOptions": {},
           "version": 2,
           "xAxis": {
            "labels": {
             "enabled": true
            },
            "type": "-"
           },
           "yAxis": [
            {
             "type": "-"
            },
            {
             "opposite": true,
             "type": "-"
            }
           ]
          }
         }
        ]
       },
       "datasetPreviewNameToCmdIdMap": {},
       "diffDeletes": [],
       "diffInserts": [],
       "displayType": "redashChart",
       "error": null,
       "errorDetails": null,
       "errorSummary": null,
       "errorTraceType": null,
       "finishTime": 0,
       "globalVars": {},
       "guid": "",
       "height": "auto",
       "hideCommandCode": false,
       "hideCommandResult": false,
       "iPythonMetadata": null,
       "inputWidgets": {},
       "isLockedInExamMode": false,
       "latestUser": "a user",
       "latestUserId": null,
       "listResultMetadata": null,
       "metadata": {},
       "nuid": "916659d9-bcc6-455b-8161-8be5e39c53d7",
       "origId": 0,
       "parentHierarchy": [],
       "pivotAggregation": null,
       "pivotColumns": null,
       "position": 3.0,
       "resultDbfsErrorMessage": null,
       "resultDbfsStatus": "INLINED_IN_TREE",
       "results": null,
       "showCommandTitle": false,
       "startTime": 0,
       "state": "input",
       "streamStates": {},
       "subcommandOptions": {
        "queryPlan": {
         "selects": [
          {
           "column": "hora",
           "type": "column"
          },
          {
           "column": "price_usd",
           "type": "column"
          },
          {
           "column": "asset_name",
           "type": "column"
          }
         ]
        }
       },
       "submitTime": 0,
       "subtype": "tableResultSubCmd.visualization",
       "tableResultIndex": 0,
       "tableResultSettingsMap": {},
       "useConsistentColors": false,
       "version": "CommandV1",
       "width": "auto",
       "workflows": null,
       "xColumns": null,
       "yColumns": null
      }
     },
     "output_type": "display_data"
    }
   ],
   "source": [
    "df_intradiario = (\n",
    "    spark.read.table(f\"{full_table_name}\")\n",
    "    .filter(\"source_type = 'intradiario'\")\n",
    "    .withColumn(\"hora\", hour(\"timestamp\"))\n",
    ")\n",
    "\n",
    "df_intradiario.createOrReplaceTempView(\"vw_distribuicao_horaria_preco\")\n",
    "\n",
    "display(df_intradiario.select(\"asset_name\", \"hora\", \"price_usd\"))\n"
   ]
  }
 ],
 "metadata": {
  "application/vnd.databricks.v1+notebook": {
   "computePreferences": null,
   "dashboards": [],
   "environmentMetadata": {
    "base_environment": "",
    "environment_version": "2"
   },
   "inputWidgetPreferences": null,
   "language": "python",
   "notebookMetadata": {
    "pythonIndentUnit": 4
   },
   "notebookName": "visoesDominioCripto",
   "widgets": {}
  },
  "language_info": {
   "name": "python"
  }
 },
 "nbformat": 4,
 "nbformat_minor": 0
}
