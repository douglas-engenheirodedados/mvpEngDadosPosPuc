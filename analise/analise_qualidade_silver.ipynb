{
 "cells": [
  {
   "cell_type": "markdown",
   "metadata": {
    "application/vnd.databricks.v1+cell": {
     "cellMetadata": {},
     "inputWidgets": {},
     "nuid": "65358fd3-e677-4792-9640-1a2cc753ac7c",
     "showTitle": false,
     "tableResultSettingsMap": {},
     "title": ""
    }
   },
   "source": [
    "# 🔍 Análise da Qualidade dos Dados - Camada Silver\n",
    "\n",
    "Este notebook tem como objetivo avaliar a qualidade dos dados presentes na tabela `silver_criptoativos`. Serão verificadas:\n",
    "- Presença de valores nulos\n",
    "- Valores fora do domínio esperado\n",
    "- Duplicidade de registros\n",
    "- Distribuição de dados para atributos principais"
   ]
  },
  {
   "cell_type": "code",
   "execution_count": 0,
   "metadata": {
    "application/vnd.databricks.v1+cell": {
     "cellMetadata": {
      "byteLimit": 2048000,
      "rowLimit": 10000
     },
     "inputWidgets": {},
     "nuid": "712a88eb-58f4-4fae-a5ab-d22836290301",
     "showTitle": false,
     "tableResultSettingsMap": {},
     "title": ""
    }
   },
   "outputs": [],
   "source": [
    "from pyspark.sql.functions import col, count, isnan, when, approx_count_distinct, min, max"
   ]
  },
  {
   "cell_type": "code",
   "execution_count": 0,
   "metadata": {
    "application/vnd.databricks.v1+cell": {
     "cellMetadata": {
      "byteLimit": 2048000,
      "rowLimit": 10000
     },
     "inputWidgets": {},
     "nuid": "25486d0e-5a60-4ff1-b385-91428473d41e",
     "showTitle": false,
     "tableResultSettingsMap": {},
     "title": ""
    }
   },
   "outputs": [],
   "source": [
    "# 📥 Leitura da tabela Silver\n",
    "silver_df = spark.read.table(\"lakehouse.silver.cripto\")\n",
    "display(silver_df.limit(5))"
   ]
  },
  {
   "cell_type": "code",
   "execution_count": 0,
   "metadata": {
    "application/vnd.databricks.v1+cell": {
     "cellMetadata": {
      "byteLimit": 2048000,
      "rowLimit": 10000
     },
     "inputWidgets": {},
     "nuid": "79960510-441f-461e-bd8d-c8bd79703b0e",
     "showTitle": false,
     "tableResultSettingsMap": {},
     "title": ""
    }
   },
   "outputs": [],
   "source": [
    "# 📊 1. Verificação de valores nulos ou ausentes\n",
    "nulls_df = silver_df.select([\n",
    "    count(when(col(c).isNull() | isnan(c), c)).alias(c) for c in silver_df.columns\n",
    "])\n",
    "display(nulls_df)"
   ]
  },
  {
   "cell_type": "code",
   "execution_count": 0,
   "metadata": {
    "application/vnd.databricks.v1+cell": {
     "cellMetadata": {
      "byteLimit": 2048000,
      "rowLimit": 10000
     },
     "inputWidgets": {},
     "nuid": "8a138ad8-357f-454c-9b5d-ee42df1cbd94",
     "showTitle": false,
     "tableResultSettingsMap": {},
     "title": ""
    }
   },
   "outputs": [],
   "source": [
    "# 🔁 2. Verificação de duplicidade de registros\n",
    "# Consideramos duplicatas se todos os campos forem iguais\n",
    "\n",
    "duplicates = silver_df.groupBy(silver_df.columns).count().filter(\"count > 1\")\n",
    "display(duplicates)"
   ]
  },
  {
   "cell_type": "code",
   "execution_count": 0,
   "metadata": {
    "application/vnd.databricks.v1+cell": {
     "cellMetadata": {
      "byteLimit": 2048000,
      "rowLimit": 10000
     },
     "inputWidgets": {},
     "nuid": "72b0f459-5fec-401a-be26-74933689f072",
     "showTitle": false,
     "tableResultSettingsMap": {},
     "title": ""
    }
   },
   "outputs": [],
   "source": [
    "# 🧪 3. Verificação de valores fora do domínio esperado\n",
    "\n",
    "# Preço deve ser ≥ 0\n",
    "silver_df.filter(col(\"price_usd\") < 0).display()\n",
    "\n",
    "# Timestamp não pode estar no futuro\n",
    "from pyspark.sql.functions import current_timestamp\n",
    "silver_df.filter(col(\"timestamp\") > current_timestamp()).display()"
   ]
  },
  {
   "cell_type": "code",
   "execution_count": 0,
   "metadata": {
    "application/vnd.databricks.v1+cell": {
     "cellMetadata": {
      "byteLimit": 2048000,
      "rowLimit": 10000
     },
     "inputWidgets": {},
     "nuid": "ca16beb0-d284-4446-96d3-46816d9ed221",
     "showTitle": false,
     "tableResultSettingsMap": {},
     "title": ""
    }
   },
   "outputs": [],
   "source": [
    "# 🗓️ 4. Distribuição de registros por data\n",
    "from pyspark.sql.functions import to_date\n",
    "\n",
    "silver_df.groupBy(to_date(\"timestamp\").alias(\"data\")).count().orderBy(\"data\").display()"
   ]
  },
  {
   "cell_type": "code",
   "execution_count": 0,
   "metadata": {
    "application/vnd.databricks.v1+cell": {
     "cellMetadata": {
      "byteLimit": 2048000,
      "rowLimit": 10000
     },
     "inputWidgets": {},
     "nuid": "b46958ae-d383-4eef-9195-5b6c8b32ae49",
     "showTitle": false,
     "tableResultSettingsMap": {},
     "title": ""
    }
   },
   "outputs": [],
   "source": [
    "# 📈 5. Estatísticas básicas por atributo numérico\n",
    "\n",
    "silver_df.select(\n",
    "    count(\"*\").alias(\"total_registros\"),\n",
    "    approx_count_distinct(\"asset_name\").alias(\"ativos_distintos\"),\n",
    "    min(\"price_usd\").alias(\"preco_min\"),\n",
    "    max(\"price_usd\").alias(\"preco_max\")\n",
    ").display()"
   ]
  }
 ],
 "metadata": {
  "application/vnd.databricks.v1+notebook": {
   "computePreferences": null,
   "dashboards": [],
   "environmentMetadata": null,
   "inputWidgetPreferences": null,
   "language": "python",
   "notebookMetadata": {
    "pythonIndentUnit": 4
   },
   "notebookName": "analise_qualidade_silver",
   "widgets": {}
  },
  "language_info": {
   "name": "python"
  }
 },
 "nbformat": 4,
 "nbformat_minor": 0
}